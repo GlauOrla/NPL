{
  "nbformat": 4,
  "nbformat_minor": 0,
  "metadata": {
    "colab": {
      "provenance": [],
      "include_colab_link": true
    },
    "kernelspec": {
      "name": "python3",
      "display_name": "Python 3"
    }
  },
  "cells": [
    {
      "cell_type": "markdown",
      "metadata": {
        "id": "view-in-github",
        "colab_type": "text"
      },
      "source": [
        "<a href=\"https://colab.research.google.com/github/GlauOrla/NPL/blob/main/Trabalho%20Final%20NLP.ipynb\" target=\"_parent\"><img src=\"https://colab.research.google.com/assets/colab-badge.svg\" alt=\"Open In Colab\"/></a>"
      ]
    },
    {
      "cell_type": "markdown",
      "metadata": {
        "id": "7xw6WhaNo4k3"
      },
      "source": [
        "###**Criar um classificador de chamados aplicando técnicas de PLN**\n",
        "---\n",
        "\n",
        "A **DinDinAgora** tem um canal de atendimento via chat e precisa classificar os assuntos dos atendimentos para melhorar as tratativas dos chamados dos clientes. O canal recebe textos abertos dos clientes relatando o problema e/ou dúvida e depois é direcionado para algum uma área especialista no assunto para uma melhor tratativa.​\n",
        "\n",
        "Crie um modelo classificador de assuntos aplicando técnicas de PLN, que consiga classificar através de um texto o assunto conforme disponível na base de dados [1] para treinamento e validação do modelo seu modelo.​\n",
        "\n",
        "O modelo precisar atingir um score na **métrica F1 Score superior a 75%**. Utilize o dataset [1] para treinar e testar o modelo, separe o dataset em duas amostras (75% para treinamento e 25% para teste com o randon_state igual a 42).​\n",
        "\n",
        "Fique à vontade para testar e explorar as técnicas de pré-processamento, abordagens de NLP, algoritmos e bibliotecas, mas explique e justifique as suas decisões durante o desenvolvimento.​\n",
        "\n",
        "**Composição da nota:​**\n",
        "\n",
        "**50%** - Demonstrações das aplicações das técnicas de PLN (regras, pré-processamentos, tratamentos, variedade de modelos aplicados, organização do pipeline, etc.)​\n",
        "\n",
        "**50%** - Baseado na performance (score) obtida com a amostra de teste no pipeline do modelo campeão (validar com  a Métrica F1 Score). **Separar o pipeline completo do modelo campeão conforme template.​**\n",
        "\n",
        "**[1] = ​https://dados-ml-pln.s3.sa-east-1.amazonaws.com/tickets_reclamacoes_classificados.csv**\n",
        "\n",
        "Obs.: Para a métrica F1 Score, usar o parâmetro average = 'weighted'.\n",
        "\n",
        "https://scikit-learn.org/stable/modules/generated/sklearn.metrics.f1_score.html"
      ]
    },
    {
      "cell_type": "code",
      "metadata": {
        "id": "DMBI8SQtps1n"
      },
      "source": [
        "# CARREGANDO O DATA FRAME\n",
        "import pandas as pd\n",
        "df = pd.read_csv('https://dados-ml-pln.s3.sa-east-1.amazonaws.com/tickets_reclamacoes_classificados.csv', delimiter=';')\n",
        "\n",
        "# Façam o download do arquivo e utilizem localmente durante os testes"
      ],
      "execution_count": 1,
      "outputs": []
    },
    {
      "cell_type": "code",
      "metadata": {
        "colab": {
          "base_uri": "https://localhost:8080/"
        },
        "id": "s__lBzDQwrcG",
        "outputId": "29788a66-f37c-4fac-8311-a434f73e7ee3"
      },
      "source": [
        "df.info()"
      ],
      "execution_count": 2,
      "outputs": [
        {
          "output_type": "stream",
          "name": "stdout",
          "text": [
            "<class 'pandas.core.frame.DataFrame'>\n",
            "RangeIndex: 21072 entries, 0 to 21071\n",
            "Data columns (total 4 columns):\n",
            " #   Column                Non-Null Count  Dtype \n",
            "---  ------                --------------  ----- \n",
            " 0   id_reclamacao         21072 non-null  int64 \n",
            " 1   data_abertura         21072 non-null  object\n",
            " 2   categoria             21072 non-null  object\n",
            " 3   descricao_reclamacao  21072 non-null  object\n",
            "dtypes: int64(1), object(3)\n",
            "memory usage: 658.6+ KB\n"
          ]
        }
      ]
    },
    {
      "cell_type": "code",
      "source": [
        "df.head()"
      ],
      "metadata": {
        "colab": {
          "base_uri": "https://localhost:8080/",
          "height": 206
        },
        "id": "OH8_32bLk5m2",
        "outputId": "793391af-d26c-46e3-94df-71e594a228c8"
      },
      "execution_count": 3,
      "outputs": [
        {
          "output_type": "execute_result",
          "data": {
            "text/plain": [
              "   id_reclamacao              data_abertura  \\\n",
              "0        3229299  2019-05-01T12:00:00-05:00   \n",
              "1        3199379  2019-04-02T12:00:00-05:00   \n",
              "2        3233499  2019-05-06T12:00:00-05:00   \n",
              "3        3180294  2019-03-14T12:00:00-05:00   \n",
              "4        3224980  2019-04-27T12:00:00-05:00   \n",
              "\n",
              "                             categoria  \\\n",
              "0              Hipotecas / Empréstimos   \n",
              "1  Cartão de crédito / Cartão pré-pago   \n",
              "2  Cartão de crédito / Cartão pré-pago   \n",
              "3  Cartão de crédito / Cartão pré-pago   \n",
              "4           Serviços de conta bancária   \n",
              "\n",
              "                                descricao_reclamacao  \n",
              "0  Bom dia, meu nome é xxxx xxxx e agradeço se vo...  \n",
              "1  Atualizei meu cartão xxxx xxxx em xx/xx/2018 e...  \n",
              "2  O cartão Chase foi relatado em xx/xx/2019. No ...  \n",
              "3  Em xx/xx/2018, enquanto tentava reservar um ti...  \n",
              "4  Meu neto me dê cheque por {$ 1600,00} Eu depos...  "
            ],
            "text/html": [
              "\n",
              "  <div id=\"df-642261dd-cb74-4df6-8069-d9b76290c61b\">\n",
              "    <div class=\"colab-df-container\">\n",
              "      <div>\n",
              "<style scoped>\n",
              "    .dataframe tbody tr th:only-of-type {\n",
              "        vertical-align: middle;\n",
              "    }\n",
              "\n",
              "    .dataframe tbody tr th {\n",
              "        vertical-align: top;\n",
              "    }\n",
              "\n",
              "    .dataframe thead th {\n",
              "        text-align: right;\n",
              "    }\n",
              "</style>\n",
              "<table border=\"1\" class=\"dataframe\">\n",
              "  <thead>\n",
              "    <tr style=\"text-align: right;\">\n",
              "      <th></th>\n",
              "      <th>id_reclamacao</th>\n",
              "      <th>data_abertura</th>\n",
              "      <th>categoria</th>\n",
              "      <th>descricao_reclamacao</th>\n",
              "    </tr>\n",
              "  </thead>\n",
              "  <tbody>\n",
              "    <tr>\n",
              "      <th>0</th>\n",
              "      <td>3229299</td>\n",
              "      <td>2019-05-01T12:00:00-05:00</td>\n",
              "      <td>Hipotecas / Empréstimos</td>\n",
              "      <td>Bom dia, meu nome é xxxx xxxx e agradeço se vo...</td>\n",
              "    </tr>\n",
              "    <tr>\n",
              "      <th>1</th>\n",
              "      <td>3199379</td>\n",
              "      <td>2019-04-02T12:00:00-05:00</td>\n",
              "      <td>Cartão de crédito / Cartão pré-pago</td>\n",
              "      <td>Atualizei meu cartão xxxx xxxx em xx/xx/2018 e...</td>\n",
              "    </tr>\n",
              "    <tr>\n",
              "      <th>2</th>\n",
              "      <td>3233499</td>\n",
              "      <td>2019-05-06T12:00:00-05:00</td>\n",
              "      <td>Cartão de crédito / Cartão pré-pago</td>\n",
              "      <td>O cartão Chase foi relatado em xx/xx/2019. No ...</td>\n",
              "    </tr>\n",
              "    <tr>\n",
              "      <th>3</th>\n",
              "      <td>3180294</td>\n",
              "      <td>2019-03-14T12:00:00-05:00</td>\n",
              "      <td>Cartão de crédito / Cartão pré-pago</td>\n",
              "      <td>Em xx/xx/2018, enquanto tentava reservar um ti...</td>\n",
              "    </tr>\n",
              "    <tr>\n",
              "      <th>4</th>\n",
              "      <td>3224980</td>\n",
              "      <td>2019-04-27T12:00:00-05:00</td>\n",
              "      <td>Serviços de conta bancária</td>\n",
              "      <td>Meu neto me dê cheque por {$ 1600,00} Eu depos...</td>\n",
              "    </tr>\n",
              "  </tbody>\n",
              "</table>\n",
              "</div>\n",
              "      <button class=\"colab-df-convert\" onclick=\"convertToInteractive('df-642261dd-cb74-4df6-8069-d9b76290c61b')\"\n",
              "              title=\"Convert this dataframe to an interactive table.\"\n",
              "              style=\"display:none;\">\n",
              "        \n",
              "  <svg xmlns=\"http://www.w3.org/2000/svg\" height=\"24px\"viewBox=\"0 0 24 24\"\n",
              "       width=\"24px\">\n",
              "    <path d=\"M0 0h24v24H0V0z\" fill=\"none\"/>\n",
              "    <path d=\"M18.56 5.44l.94 2.06.94-2.06 2.06-.94-2.06-.94-.94-2.06-.94 2.06-2.06.94zm-11 1L8.5 8.5l.94-2.06 2.06-.94-2.06-.94L8.5 2.5l-.94 2.06-2.06.94zm10 10l.94 2.06.94-2.06 2.06-.94-2.06-.94-.94-2.06-.94 2.06-2.06.94z\"/><path d=\"M17.41 7.96l-1.37-1.37c-.4-.4-.92-.59-1.43-.59-.52 0-1.04.2-1.43.59L10.3 9.45l-7.72 7.72c-.78.78-.78 2.05 0 2.83L4 21.41c.39.39.9.59 1.41.59.51 0 1.02-.2 1.41-.59l7.78-7.78 2.81-2.81c.8-.78.8-2.07 0-2.86zM5.41 20L4 18.59l7.72-7.72 1.47 1.35L5.41 20z\"/>\n",
              "  </svg>\n",
              "      </button>\n",
              "      \n",
              "  <style>\n",
              "    .colab-df-container {\n",
              "      display:flex;\n",
              "      flex-wrap:wrap;\n",
              "      gap: 12px;\n",
              "    }\n",
              "\n",
              "    .colab-df-convert {\n",
              "      background-color: #E8F0FE;\n",
              "      border: none;\n",
              "      border-radius: 50%;\n",
              "      cursor: pointer;\n",
              "      display: none;\n",
              "      fill: #1967D2;\n",
              "      height: 32px;\n",
              "      padding: 0 0 0 0;\n",
              "      width: 32px;\n",
              "    }\n",
              "\n",
              "    .colab-df-convert:hover {\n",
              "      background-color: #E2EBFA;\n",
              "      box-shadow: 0px 1px 2px rgba(60, 64, 67, 0.3), 0px 1px 3px 1px rgba(60, 64, 67, 0.15);\n",
              "      fill: #174EA6;\n",
              "    }\n",
              "\n",
              "    [theme=dark] .colab-df-convert {\n",
              "      background-color: #3B4455;\n",
              "      fill: #D2E3FC;\n",
              "    }\n",
              "\n",
              "    [theme=dark] .colab-df-convert:hover {\n",
              "      background-color: #434B5C;\n",
              "      box-shadow: 0px 1px 3px 1px rgba(0, 0, 0, 0.15);\n",
              "      filter: drop-shadow(0px 1px 2px rgba(0, 0, 0, 0.3));\n",
              "      fill: #FFFFFF;\n",
              "    }\n",
              "  </style>\n",
              "\n",
              "      <script>\n",
              "        const buttonEl =\n",
              "          document.querySelector('#df-642261dd-cb74-4df6-8069-d9b76290c61b button.colab-df-convert');\n",
              "        buttonEl.style.display =\n",
              "          google.colab.kernel.accessAllowed ? 'block' : 'none';\n",
              "\n",
              "        async function convertToInteractive(key) {\n",
              "          const element = document.querySelector('#df-642261dd-cb74-4df6-8069-d9b76290c61b');\n",
              "          const dataTable =\n",
              "            await google.colab.kernel.invokeFunction('convertToInteractive',\n",
              "                                                     [key], {});\n",
              "          if (!dataTable) return;\n",
              "\n",
              "          const docLinkHtml = 'Like what you see? Visit the ' +\n",
              "            '<a target=\"_blank\" href=https://colab.research.google.com/notebooks/data_table.ipynb>data table notebook</a>'\n",
              "            + ' to learn more about interactive tables.';\n",
              "          element.innerHTML = '';\n",
              "          dataTable['output_type'] = 'display_data';\n",
              "          await google.colab.output.renderOutput(dataTable, element);\n",
              "          const docLink = document.createElement('div');\n",
              "          docLink.innerHTML = docLinkHtml;\n",
              "          element.appendChild(docLink);\n",
              "        }\n",
              "      </script>\n",
              "    </div>\n",
              "  </div>\n",
              "  "
            ]
          },
          "metadata": {},
          "execution_count": 3
        }
      ]
    },
    {
      "cell_type": "markdown",
      "metadata": {
        "id": "FyKC9Vhkp0BK"
      },
      "source": [
        "Bom desenvolvimento!"
      ]
    },
    {
      "cell_type": "markdown",
      "source": [
        "### Explorando a coluna categoria"
      ],
      "metadata": {
        "id": "yyhfVsi5mX-P"
      }
    },
    {
      "cell_type": "code",
      "source": [
        "df['categoria'].value_counts().plot.pie(autopct='%.2f')"
      ],
      "metadata": {
        "colab": {
          "base_uri": "https://localhost:8080/",
          "height": 266
        },
        "id": "dms-lmhLhXek",
        "outputId": "86ad1a29-fce1-4272-ef24-1895f02664fe"
      },
      "execution_count": 16,
      "outputs": [
        {
          "output_type": "execute_result",
          "data": {
            "text/plain": [
              "<matplotlib.axes._subplots.AxesSubplot at 0x7f0a9e5d4f40>"
            ]
          },
          "metadata": {},
          "execution_count": 16
        },
        {
          "output_type": "display_data",
          "data": {
            "text/plain": [
              "<Figure size 432x288 with 1 Axes>"
            ],
            "image/png": "[encoded data removed]"
          },
          "metadata": {}
        }
      ]
    },
    {
      "cell_type": "code",
      "source": [
        "#Nota-se que os valores estão razoavelmente equilibrados\n",
        "print(df.categoria.value_counts())"
      ],
      "metadata": {
        "colab": {
          "base_uri": "https://localhost:8080/"
        },
        "id": "jt20iH87iFPG",
        "outputId": "2a1ef8a9-9086-449b-bf05-6ac74a88b8af"
      },
      "execution_count": 9,
      "outputs": [
        {
          "output_type": "stream",
          "name": "stdout",
          "text": [
            "Serviços de conta bancária             5161\n",
            "Cartão de crédito / Cartão pré-pago    5006\n",
            "Roubo / Relatório de disputa           4822\n",
            "Hipotecas / Empréstimos                3850\n",
            "Outros                                 2233\n",
            "Name: categoria, dtype: int64\n"
          ]
        }
      ]
    },
    {
      "cell_type": "code",
      "metadata": {
        "id": "nze8UbKhosm9",
        "colab": {
          "base_uri": "https://localhost:8080/",
          "height": 250
        },
        "outputId": "72779fd9-2c70-4d0e-e2f8-46c2b4a3c7a0"
      },
      "source": [
        "#Aqui criaremos uma nova coluna com a classicação numerica representando cada item da categoria \n",
        "classificacao = df['categoria'].replace([\n",
        "    'Serviços de conta bancária', 'Cartão de crédito / Cartão pré-pago', 'Roubo / Relatório de disputa', 'Hipotecas / Empréstimos', 'Outros'], [0, 1, 2, 3, 4])\n",
        "df['classificacao'] = classificacao\n",
        "df.head()"
      ],
      "execution_count": 12,
      "outputs": [
        {
          "output_type": "execute_result",
          "data": {
            "text/plain": [
              "   id_reclamacao              data_abertura  \\\n",
              "0        3229299  2019-05-01T12:00:00-05:00   \n",
              "1        3199379  2019-04-02T12:00:00-05:00   \n",
              "2        3233499  2019-05-06T12:00:00-05:00   \n",
              "3        3180294  2019-03-14T12:00:00-05:00   \n",
              "4        3224980  2019-04-27T12:00:00-05:00   \n",
              "\n",
              "                             categoria  \\\n",
              "0              Hipotecas / Empréstimos   \n",
              "1  Cartão de crédito / Cartão pré-pago   \n",
              "2  Cartão de crédito / Cartão pré-pago   \n",
              "3  Cartão de crédito / Cartão pré-pago   \n",
              "4           Serviços de conta bancária   \n",
              "\n",
              "                                descricao_reclamacao  classificacao  \n",
              "0  Bom dia, meu nome é xxxx xxxx e agradeço se vo...              3  \n",
              "1  Atualizei meu cartão xxxx xxxx em xx/xx/2018 e...              1  \n",
              "2  O cartão Chase foi relatado em xx/xx/2019. No ...              1  \n",
              "3  Em xx/xx/2018, enquanto tentava reservar um ti...              1  \n",
              "4  Meu neto me dê cheque por {$ 1600,00} Eu depos...              0  "
            ],
            "text/html": [
              "\n",
              "  <div id=\"df-eff313e5-9db1-40b6-9016-5d99c89f6fa0\">\n",
              "    <div class=\"colab-df-container\">\n",
              "      <div>\n",
              "<style scoped>\n",
              "    .dataframe tbody tr th:only-of-type {\n",
              "        vertical-align: middle;\n",
              "    }\n",
              "\n",
              "    .dataframe tbody tr th {\n",
              "        vertical-align: top;\n",
              "    }\n",
              "\n",
              "    .dataframe thead th {\n",
              "        text-align: right;\n",
              "    }\n",
              "</style>\n",
              "<table border=\"1\" class=\"dataframe\">\n",
              "  <thead>\n",
              "    <tr style=\"text-align: right;\">\n",
              "      <th></th>\n",
              "      <th>id_reclamacao</th>\n",
              "      <th>data_abertura</th>\n",
              "      <th>categoria</th>\n",
              "      <th>descricao_reclamacao</th>\n",
              "      <th>classificacao</th>\n",
              "    </tr>\n",
              "  </thead>\n",
              "  <tbody>\n",
              "    <tr>\n",
              "      <th>0</th>\n",
              "      <td>3229299</td>\n",
              "      <td>2019-05-01T12:00:00-05:00</td>\n",
              "      <td>Hipotecas / Empréstimos</td>\n",
              "      <td>Bom dia, meu nome é xxxx xxxx e agradeço se vo...</td>\n",
              "      <td>3</td>\n",
              "    </tr>\n",
              "    <tr>\n",
              "      <th>1</th>\n",
              "      <td>3199379</td>\n",
              "      <td>2019-04-02T12:00:00-05:00</td>\n",
              "      <td>Cartão de crédito / Cartão pré-pago</td>\n",
              "      <td>Atualizei meu cartão xxxx xxxx em xx/xx/2018 e...</td>\n",
              "      <td>1</td>\n",
              "    </tr>\n",
              "    <tr>\n",
              "      <th>2</th>\n",
              "      <td>3233499</td>\n",
              "      <td>2019-05-06T12:00:00-05:00</td>\n",
              "      <td>Cartão de crédito / Cartão pré-pago</td>\n",
              "      <td>O cartão Chase foi relatado em xx/xx/2019. No ...</td>\n",
              "      <td>1</td>\n",
              "    </tr>\n",
              "    <tr>\n",
              "      <th>3</th>\n",
              "      <td>3180294</td>\n",
              "      <td>2019-03-14T12:00:00-05:00</td>\n",
              "      <td>Cartão de crédito / Cartão pré-pago</td>\n",
              "      <td>Em xx/xx/2018, enquanto tentava reservar um ti...</td>\n",
              "      <td>1</td>\n",
              "    </tr>\n",
              "    <tr>\n",
              "      <th>4</th>\n",
              "      <td>3224980</td>\n",
              "      <td>2019-04-27T12:00:00-05:00</td>\n",
              "      <td>Serviços de conta bancária</td>\n",
              "      <td>Meu neto me dê cheque por {$ 1600,00} Eu depos...</td>\n",
              "      <td>0</td>\n",
              "    </tr>\n",
              "  </tbody>\n",
              "</table>\n",
              "</div>\n",
              "      <button class=\"colab-df-convert\" onclick=\"convertToInteractive('df-eff313e5-9db1-40b6-9016-5d99c89f6fa0')\"\n",
              "              title=\"Convert this dataframe to an interactive table.\"\n",
              "              style=\"display:none;\">\n",
              "        \n",
              "  <svg xmlns=\"http://www.w3.org/2000/svg\" height=\"24px\"viewBox=\"0 0 24 24\"\n",
              "       width=\"24px\">\n",
              "    <path d=\"M0 0h24v24H0V0z\" fill=\"none\"/>\n",
              "    <path d=\"M18.56 5.44l.94 2.06.94-2.06 2.06-.94-2.06-.94-.94-2.06-.94 2.06-2.06.94zm-11 1L8.5 8.5l.94-2.06 2.06-.94-2.06-.94L8.5 2.5l-.94 2.06-2.06.94zm10 10l.94 2.06.94-2.06 2.06-.94-2.06-.94-.94-2.06-.94 2.06-2.06.94z\"/><path d=\"M17.41 7.96l-1.37-1.37c-.4-.4-.92-.59-1.43-.59-.52 0-1.04.2-1.43.59L10.3 9.45l-7.72 7.72c-.78.78-.78 2.05 0 2.83L4 21.41c.39.39.9.59 1.41.59.51 0 1.02-.2 1.41-.59l7.78-7.78 2.81-2.81c.8-.78.8-2.07 0-2.86zM5.41 20L4 18.59l7.72-7.72 1.47 1.35L5.41 20z\"/>\n",
              "  </svg>\n",
              "      </button>\n",
              "      \n",
              "  <style>\n",
              "    .colab-df-container {\n",
              "      display:flex;\n",
              "      flex-wrap:wrap;\n",
              "      gap: 12px;\n",
              "    }\n",
              "\n",
              "    .colab-df-convert {\n",
              "      background-color: #E8F0FE;\n",
              "      border: none;\n",
              "      border-radius: 50%;\n",
              "      cursor: pointer;\n",
              "      display: none;\n",
              "      fill: #1967D2;\n",
              "      height: 32px;\n",
              "      padding: 0 0 0 0;\n",
              "      width: 32px;\n",
              "    }\n",
              "\n",
              "    .colab-df-convert:hover {\n",
              "      background-color: #E2EBFA;\n",
              "      box-shadow: 0px 1px 2px rgba(60, 64, 67, 0.3), 0px 1px 3px 1px rgba(60, 64, 67, 0.15);\n",
              "      fill: #174EA6;\n",
              "    }\n",
              "\n",
              "    [theme=dark] .colab-df-convert {\n",
              "      background-color: #3B4455;\n",
              "      fill: #D2E3FC;\n",
              "    }\n",
              "\n",
              "    [theme=dark] .colab-df-convert:hover {\n",
              "      background-color: #434B5C;\n",
              "      box-shadow: 0px 1px 3px 1px rgba(0, 0, 0, 0.15);\n",
              "      filter: drop-shadow(0px 1px 2px rgba(0, 0, 0, 0.3));\n",
              "      fill: #FFFFFF;\n",
              "    }\n",
              "  </style>\n",
              "\n",
              "      <script>\n",
              "        const buttonEl =\n",
              "          document.querySelector('#df-eff313e5-9db1-40b6-9016-5d99c89f6fa0 button.colab-df-convert');\n",
              "        buttonEl.style.display =\n",
              "          google.colab.kernel.accessAllowed ? 'block' : 'none';\n",
              "\n",
              "        async function convertToInteractive(key) {\n",
              "          const element = document.querySelector('#df-eff313e5-9db1-40b6-9016-5d99c89f6fa0');\n",
              "          const dataTable =\n",
              "            await google.colab.kernel.invokeFunction('convertToInteractive',\n",
              "                                                     [key], {});\n",
              "          if (!dataTable) return;\n",
              "\n",
              "          const docLinkHtml = 'Like what you see? Visit the ' +\n",
              "            '<a target=\"_blank\" href=https://colab.research.google.com/notebooks/data_table.ipynb>data table notebook</a>'\n",
              "            + ' to learn more about interactive tables.';\n",
              "          element.innerHTML = '';\n",
              "          dataTable['output_type'] = 'display_data';\n",
              "          await google.colab.output.renderOutput(dataTable, element);\n",
              "          const docLink = document.createElement('div');\n",
              "          docLink.innerHTML = docLinkHtml;\n",
              "          element.appendChild(docLink);\n",
              "        }\n",
              "      </script>\n",
              "    </div>\n",
              "  </div>\n",
              "  "
            ]
          },
          "metadata": {},
          "execution_count": 12
        }
      ]
    },
    {
      "cell_type": "code",
      "metadata": {
        "id": "FziwgqJmw9OD",
        "colab": {
          "base_uri": "https://localhost:8080/",
          "height": 237
        },
        "outputId": "231abbeb-6196-44aa-c697-63ef2e3f5aca"
      },
      "source": [
        "# Excluindo as colunas que não iremos precisar e estabelecendo a 'id_reclamacao' como index\n",
        "df = df.drop(columns=['data_abertura'])\n",
        "df = df.set_index('id_reclamacao')\n",
        "df.head()"
      ],
      "execution_count": 13,
      "outputs": [
        {
          "output_type": "execute_result",
          "data": {
            "text/plain": [
              "                                         categoria  \\\n",
              "id_reclamacao                                        \n",
              "3229299                    Hipotecas / Empréstimos   \n",
              "3199379        Cartão de crédito / Cartão pré-pago   \n",
              "3233499        Cartão de crédito / Cartão pré-pago   \n",
              "3180294        Cartão de crédito / Cartão pré-pago   \n",
              "3224980                 Serviços de conta bancária   \n",
              "\n",
              "                                            descricao_reclamacao  \\\n",
              "id_reclamacao                                                      \n",
              "3229299        Bom dia, meu nome é xxxx xxxx e agradeço se vo...   \n",
              "3199379        Atualizei meu cartão xxxx xxxx em xx/xx/2018 e...   \n",
              "3233499        O cartão Chase foi relatado em xx/xx/2019. No ...   \n",
              "3180294        Em xx/xx/2018, enquanto tentava reservar um ti...   \n",
              "3224980        Meu neto me dê cheque por {$ 1600,00} Eu depos...   \n",
              "\n",
              "               classificacao  \n",
              "id_reclamacao                 \n",
              "3229299                    3  \n",
              "3199379                    1  \n",
              "3233499                    1  \n",
              "3180294                    1  \n",
              "3224980                    0  "
            ],
            "text/html": [
              "\n",
              "  <div id=\"df-070ae420-89d3-4955-a908-67d6b1b61033\">\n",
              "    <div class=\"colab-df-container\">\n",
              "      <div>\n",
              "<style scoped>\n",
              "    .dataframe tbody tr th:only-of-type {\n",
              "        vertical-align: middle;\n",
              "    }\n",
              "\n",
              "    .dataframe tbody tr th {\n",
              "        vertical-align: top;\n",
              "    }\n",
              "\n",
              "    .dataframe thead th {\n",
              "        text-align: right;\n",
              "    }\n",
              "</style>\n",
              "<table border=\"1\" class=\"dataframe\">\n",
              "  <thead>\n",
              "    <tr style=\"text-align: right;\">\n",
              "      <th></th>\n",
              "      <th>categoria</th>\n",
              "      <th>descricao_reclamacao</th>\n",
              "      <th>classificacao</th>\n",
              "    </tr>\n",
              "    <tr>\n",
              "      <th>id_reclamacao</th>\n",
              "      <th></th>\n",
              "      <th></th>\n",
              "      <th></th>\n",
              "    </tr>\n",
              "  </thead>\n",
              "  <tbody>\n",
              "    <tr>\n",
              "      <th>3229299</th>\n",
              "      <td>Hipotecas / Empréstimos</td>\n",
              "      <td>Bom dia, meu nome é xxxx xxxx e agradeço se vo...</td>\n",
              "      <td>3</td>\n",
              "    </tr>\n",
              "    <tr>\n",
              "      <th>3199379</th>\n",
              "      <td>Cartão de crédito / Cartão pré-pago</td>\n",
              "      <td>Atualizei meu cartão xxxx xxxx em xx/xx/2018 e...</td>\n",
              "      <td>1</td>\n",
              "    </tr>\n",
              "    <tr>\n",
              "      <th>3233499</th>\n",
              "      <td>Cartão de crédito / Cartão pré-pago</td>\n",
              "      <td>O cartão Chase foi relatado em xx/xx/2019. No ...</td>\n",
              "      <td>1</td>\n",
              "    </tr>\n",
              "    <tr>\n",
              "      <th>3180294</th>\n",
              "      <td>Cartão de crédito / Cartão pré-pago</td>\n",
              "      <td>Em xx/xx/2018, enquanto tentava reservar um ti...</td>\n",
              "      <td>1</td>\n",
              "    </tr>\n",
              "    <tr>\n",
              "      <th>3224980</th>\n",
              "      <td>Serviços de conta bancária</td>\n",
              "      <td>Meu neto me dê cheque por {$ 1600,00} Eu depos...</td>\n",
              "      <td>0</td>\n",
              "    </tr>\n",
              "  </tbody>\n",
              "</table>\n",
              "</div>\n",
              "      <button class=\"colab-df-convert\" onclick=\"convertToInteractive('df-070ae420-89d3-4955-a908-67d6b1b61033')\"\n",
              "              title=\"Convert this dataframe to an interactive table.\"\n",
              "              style=\"display:none;\">\n",
              "        \n",
              "  <svg xmlns=\"http://www.w3.org/2000/svg\" height=\"24px\"viewBox=\"0 0 24 24\"\n",
              "       width=\"24px\">\n",
              "    <path d=\"M0 0h24v24H0V0z\" fill=\"none\"/>\n",
              "    <path d=\"M18.56 5.44l.94 2.06.94-2.06 2.06-.94-2.06-.94-.94-2.06-.94 2.06-2.06.94zm-11 1L8.5 8.5l.94-2.06 2.06-.94-2.06-.94L8.5 2.5l-.94 2.06-2.06.94zm10 10l.94 2.06.94-2.06 2.06-.94-2.06-.94-.94-2.06-.94 2.06-2.06.94z\"/><path d=\"M17.41 7.96l-1.37-1.37c-.4-.4-.92-.59-1.43-.59-.52 0-1.04.2-1.43.59L10.3 9.45l-7.72 7.72c-.78.78-.78 2.05 0 2.83L4 21.41c.39.39.9.59 1.41.59.51 0 1.02-.2 1.41-.59l7.78-7.78 2.81-2.81c.8-.78.8-2.07 0-2.86zM5.41 20L4 18.59l7.72-7.72 1.47 1.35L5.41 20z\"/>\n",
              "  </svg>\n",
              "      </button>\n",
              "      \n",
              "  <style>\n",
              "    .colab-df-container {\n",
              "      display:flex;\n",
              "      flex-wrap:wrap;\n",
              "      gap: 12px;\n",
              "    }\n",
              "\n",
              "    .colab-df-convert {\n",
              "      background-color: #E8F0FE;\n",
              "      border: none;\n",
              "      border-radius: 50%;\n",
              "      cursor: pointer;\n",
              "      display: none;\n",
              "      fill: #1967D2;\n",
              "      height: 32px;\n",
              "      padding: 0 0 0 0;\n",
              "      width: 32px;\n",
              "    }\n",
              "\n",
              "    .colab-df-convert:hover {\n",
              "      background-color: #E2EBFA;\n",
              "      box-shadow: 0px 1px 2px rgba(60, 64, 67, 0.3), 0px 1px 3px 1px rgba(60, 64, 67, 0.15);\n",
              "      fill: #174EA6;\n",
              "    }\n",
              "\n",
              "    [theme=dark] .colab-df-convert {\n",
              "      background-color: #3B4455;\n",
              "      fill: #D2E3FC;\n",
              "    }\n",
              "\n",
              "    [theme=dark] .colab-df-convert:hover {\n",
              "      background-color: #434B5C;\n",
              "      box-shadow: 0px 1px 3px 1px rgba(0, 0, 0, 0.15);\n",
              "      filter: drop-shadow(0px 1px 2px rgba(0, 0, 0, 0.3));\n",
              "      fill: #FFFFFF;\n",
              "    }\n",
              "  </style>\n",
              "\n",
              "      <script>\n",
              "        const buttonEl =\n",
              "          document.querySelector('#df-070ae420-89d3-4955-a908-67d6b1b61033 button.colab-df-convert');\n",
              "        buttonEl.style.display =\n",
              "          google.colab.kernel.accessAllowed ? 'block' : 'none';\n",
              "\n",
              "        async function convertToInteractive(key) {\n",
              "          const element = document.querySelector('#df-070ae420-89d3-4955-a908-67d6b1b61033');\n",
              "          const dataTable =\n",
              "            await google.colab.kernel.invokeFunction('convertToInteractive',\n",
              "                                                     [key], {});\n",
              "          if (!dataTable) return;\n",
              "\n",
              "          const docLinkHtml = 'Like what you see? Visit the ' +\n",
              "            '<a target=\"_blank\" href=https://colab.research.google.com/notebooks/data_table.ipynb>data table notebook</a>'\n",
              "            + ' to learn more about interactive tables.';\n",
              "          element.innerHTML = '';\n",
              "          dataTable['output_type'] = 'display_data';\n",
              "          await google.colab.output.renderOutput(dataTable, element);\n",
              "          const docLink = document.createElement('div');\n",
              "          docLink.innerHTML = docLinkHtml;\n",
              "          element.appendChild(docLink);\n",
              "        }\n",
              "      </script>\n",
              "    </div>\n",
              "  </div>\n",
              "  "
            ]
          },
          "metadata": {},
          "execution_count": 13
        }
      ]
    },
    {
      "cell_type": "markdown",
      "source": [
        "#Nomalizando o dataset\n",
        "###Eliminando as palavras desnecessarias"
      ],
      "metadata": {
        "id": "WX9hXH94nDOr"
      }
    },
    {
      "cell_type": "code",
      "source": [
        "#Removendo os 'x' da coluna 'descricao_reclamacao'\n",
        "df['descricao_reclamacao'] = df['descricao_reclamacao'].str.replace('x', '')"
      ],
      "metadata": {
        "id": "eueYPrMFjag9"
      },
      "execution_count": 20,
      "outputs": []
    },
    {
      "cell_type": "code",
      "source": [
        "#E agora os espaços em branco\n",
        "df['descricao_reclamacao'] = df['descricao_reclamacao'].str.strip()"
      ],
      "metadata": {
        "id": "fX0y9AFSjakX"
      },
      "execution_count": 21,
      "outputs": []
    },
    {
      "cell_type": "code",
      "source": [
        "df.head()"
      ],
      "metadata": {
        "colab": {
          "base_uri": "https://localhost:8080/",
          "height": 237
        },
        "id": "B4gcgvUJjam9",
        "outputId": "800d948d-4dbf-4caf-b1a5-755f42c35e91"
      },
      "execution_count": 22,
      "outputs": [
        {
          "output_type": "execute_result",
          "data": {
            "text/plain": [
              "                                         categoria  \\\n",
              "id_reclamacao                                        \n",
              "3229299                    Hipotecas / Empréstimos   \n",
              "3199379        Cartão de crédito / Cartão pré-pago   \n",
              "3233499        Cartão de crédito / Cartão pré-pago   \n",
              "3180294        Cartão de crédito / Cartão pré-pago   \n",
              "3224980                 Serviços de conta bancária   \n",
              "\n",
              "                                            descricao_reclamacao  \\\n",
              "id_reclamacao                                                      \n",
              "3229299        Bom dia, meu nome é   e agradeço se você puder...   \n",
              "3199379        Atualizei meu cartão   em //2018 e fui informa...   \n",
              "3233499        O cartão Chase foi relatado em //2019. No enta...   \n",
              "3180294        Em //2018, enquanto tentava reservar um ticket...   \n",
              "3224980        Meu neto me dê cheque por {$ 1600,00} Eu depos...   \n",
              "\n",
              "               classificacao  \n",
              "id_reclamacao                 \n",
              "3229299                    3  \n",
              "3199379                    1  \n",
              "3233499                    1  \n",
              "3180294                    1  \n",
              "3224980                    0  "
            ],
            "text/html": [
              "\n",
              "  <div id=\"df-7b23f0c0-70ec-4f30-b602-41ca3cdcee51\">\n",
              "    <div class=\"colab-df-container\">\n",
              "      <div>\n",
              "<style scoped>\n",
              "    .dataframe tbody tr th:only-of-type {\n",
              "        vertical-align: middle;\n",
              "    }\n",
              "\n",
              "    .dataframe tbody tr th {\n",
              "        vertical-align: top;\n",
              "    }\n",
              "\n",
              "    .dataframe thead th {\n",
              "        text-align: right;\n",
              "    }\n",
              "</style>\n",
              "<table border=\"1\" class=\"dataframe\">\n",
              "  <thead>\n",
              "    <tr style=\"text-align: right;\">\n",
              "      <th></th>\n",
              "      <th>categoria</th>\n",
              "      <th>descricao_reclamacao</th>\n",
              "      <th>classificacao</th>\n",
              "    </tr>\n",
              "    <tr>\n",
              "      <th>id_reclamacao</th>\n",
              "      <th></th>\n",
              "      <th></th>\n",
              "      <th></th>\n",
              "    </tr>\n",
              "  </thead>\n",
              "  <tbody>\n",
              "    <tr>\n",
              "      <th>3229299</th>\n",
              "      <td>Hipotecas / Empréstimos</td>\n",
              "      <td>Bom dia, meu nome é   e agradeço se você puder...</td>\n",
              "      <td>3</td>\n",
              "    </tr>\n",
              "    <tr>\n",
              "      <th>3199379</th>\n",
              "      <td>Cartão de crédito / Cartão pré-pago</td>\n",
              "      <td>Atualizei meu cartão   em //2018 e fui informa...</td>\n",
              "      <td>1</td>\n",
              "    </tr>\n",
              "    <tr>\n",
              "      <th>3233499</th>\n",
              "      <td>Cartão de crédito / Cartão pré-pago</td>\n",
              "      <td>O cartão Chase foi relatado em //2019. No enta...</td>\n",
              "      <td>1</td>\n",
              "    </tr>\n",
              "    <tr>\n",
              "      <th>3180294</th>\n",
              "      <td>Cartão de crédito / Cartão pré-pago</td>\n",
              "      <td>Em //2018, enquanto tentava reservar um ticket...</td>\n",
              "      <td>1</td>\n",
              "    </tr>\n",
              "    <tr>\n",
              "      <th>3224980</th>\n",
              "      <td>Serviços de conta bancária</td>\n",
              "      <td>Meu neto me dê cheque por {$ 1600,00} Eu depos...</td>\n",
              "      <td>0</td>\n",
              "    </tr>\n",
              "  </tbody>\n",
              "</table>\n",
              "</div>\n",
              "      <button class=\"colab-df-convert\" onclick=\"convertToInteractive('df-7b23f0c0-70ec-4f30-b602-41ca3cdcee51')\"\n",
              "              title=\"Convert this dataframe to an interactive table.\"\n",
              "              style=\"display:none;\">\n",
              "        \n",
              "  <svg xmlns=\"http://www.w3.org/2000/svg\" height=\"24px\"viewBox=\"0 0 24 24\"\n",
              "       width=\"24px\">\n",
              "    <path d=\"M0 0h24v24H0V0z\" fill=\"none\"/>\n",
              "    <path d=\"M18.56 5.44l.94 2.06.94-2.06 2.06-.94-2.06-.94-.94-2.06-.94 2.06-2.06.94zm-11 1L8.5 8.5l.94-2.06 2.06-.94-2.06-.94L8.5 2.5l-.94 2.06-2.06.94zm10 10l.94 2.06.94-2.06 2.06-.94-2.06-.94-.94-2.06-.94 2.06-2.06.94z\"/><path d=\"M17.41 7.96l-1.37-1.37c-.4-.4-.92-.59-1.43-.59-.52 0-1.04.2-1.43.59L10.3 9.45l-7.72 7.72c-.78.78-.78 2.05 0 2.83L4 21.41c.39.39.9.59 1.41.59.51 0 1.02-.2 1.41-.59l7.78-7.78 2.81-2.81c.8-.78.8-2.07 0-2.86zM5.41 20L4 18.59l7.72-7.72 1.47 1.35L5.41 20z\"/>\n",
              "  </svg>\n",
              "      </button>\n",
              "      \n",
              "  <style>\n",
              "    .colab-df-container {\n",
              "      display:flex;\n",
              "      flex-wrap:wrap;\n",
              "      gap: 12px;\n",
              "    }\n",
              "\n",
              "    .colab-df-convert {\n",
              "      background-color: #E8F0FE;\n",
              "      border: none;\n",
              "      border-radius: 50%;\n",
              "      cursor: pointer;\n",
              "      display: none;\n",
              "      fill: #1967D2;\n",
              "      height: 32px;\n",
              "      padding: 0 0 0 0;\n",
              "      width: 32px;\n",
              "    }\n",
              "\n",
              "    .colab-df-convert:hover {\n",
              "      background-color: #E2EBFA;\n",
              "      box-shadow: 0px 1px 2px rgba(60, 64, 67, 0.3), 0px 1px 3px 1px rgba(60, 64, 67, 0.15);\n",
              "      fill: #174EA6;\n",
              "    }\n",
              "\n",
              "    [theme=dark] .colab-df-convert {\n",
              "      background-color: #3B4455;\n",
              "      fill: #D2E3FC;\n",
              "    }\n",
              "\n",
              "    [theme=dark] .colab-df-convert:hover {\n",
              "      background-color: #434B5C;\n",
              "      box-shadow: 0px 1px 3px 1px rgba(0, 0, 0, 0.15);\n",
              "      filter: drop-shadow(0px 1px 2px rgba(0, 0, 0, 0.3));\n",
              "      fill: #FFFFFF;\n",
              "    }\n",
              "  </style>\n",
              "\n",
              "      <script>\n",
              "        const buttonEl =\n",
              "          document.querySelector('#df-7b23f0c0-70ec-4f30-b602-41ca3cdcee51 button.colab-df-convert');\n",
              "        buttonEl.style.display =\n",
              "          google.colab.kernel.accessAllowed ? 'block' : 'none';\n",
              "\n",
              "        async function convertToInteractive(key) {\n",
              "          const element = document.querySelector('#df-7b23f0c0-70ec-4f30-b602-41ca3cdcee51');\n",
              "          const dataTable =\n",
              "            await google.colab.kernel.invokeFunction('convertToInteractive',\n",
              "                                                     [key], {});\n",
              "          if (!dataTable) return;\n",
              "\n",
              "          const docLinkHtml = 'Like what you see? Visit the ' +\n",
              "            '<a target=\"_blank\" href=https://colab.research.google.com/notebooks/data_table.ipynb>data table notebook</a>'\n",
              "            + ' to learn more about interactive tables.';\n",
              "          element.innerHTML = '';\n",
              "          dataTable['output_type'] = 'display_data';\n",
              "          await google.colab.output.renderOutput(dataTable, element);\n",
              "          const docLink = document.createElement('div');\n",
              "          docLink.innerHTML = docLinkHtml;\n",
              "          element.appendChild(docLink);\n",
              "        }\n",
              "      </script>\n",
              "    </div>\n",
              "  </div>\n",
              "  "
            ]
          },
          "metadata": {},
          "execution_count": 22
        }
      ]
    },
    {
      "cell_type": "code",
      "source": [
        "#Removendo os espaços em branco e as pontuações através da tokenização\n",
        "from nltk import tokenize\n",
        "tk_punct = tokenize.WordPunctTokenizer()\n",
        "tk_esp_bra = tokenize.WhitespaceTokenizer()"
      ],
      "metadata": {
        "id": "WqU8f4gOjapl"
      },
      "execution_count": 23,
      "outputs": []
    },
    {
      "cell_type": "code",
      "source": [
        "#Criando uma lista de Pontuação\n",
        "from string import punctuation\n",
        "p_list = list()\n",
        "extras = ['//', 'x', 'xx', 'xxx', 'xxxx', '{', '}', '$', '{$']\n",
        "for p in punctuation:\n",
        "  p_list.append(p)\n",
        "for q in extras:\n",
        "  p_list.append(q)\n",
        "print(p_list)"
      ],
      "metadata": {
        "colab": {
          "base_uri": "https://localhost:8080/"
        },
        "id": "LLkM9qiyjasT",
        "outputId": "72a90015-c3e5-4fb1-ed60-124fef7d7853"
      },
      "execution_count": 59,
      "outputs": [
        {
          "output_type": "stream",
          "name": "stdout",
          "text": [
            "['!', '\"', '#', '$', '%', '&', \"'\", '(', ')', '*', '+', ',', '-', '.', '/', ':', ';', '<', '=', '>', '?', '@', '[', '\\\\', ']', '^', '_', '`', '{', '|', '}', '~', '//', 'x', 'xx', 'xxx', 'xxxx', '{', '}', '$', '{$']\n"
          ]
        }
      ]
    },
    {
      "cell_type": "code",
      "source": [
        "#Criando agora uma lista com os Stopwords em Portugues\n",
        "import nltk\n",
        "nltk.download('stopwords')\n",
        "stop_words = nltk.corpus.stopwords.words('portuguese')"
      ],
      "metadata": {
        "colab": {
          "base_uri": "https://localhost:8080/"
        },
        "id": "kISn0HLZjavF",
        "outputId": "addbd0dc-e253-42d8-fec1-bbfa0d6e9b34"
      },
      "execution_count": 60,
      "outputs": [
        {
          "output_type": "stream",
          "name": "stderr",
          "text": [
            "[nltk_data] Downloading package stopwords to /root/nltk_data...\n",
            "[nltk_data]   Package stopwords is already up-to-date!\n"
          ]
        }
      ]
    },
    {
      "cell_type": "code",
      "source": [
        "#Em seguida, criaremos uma noma coluna como resultado da função que remove pontuação e stopwords\n",
        "#As palavras também serão convertidas em caixa baixa\n",
        "pontuacao_stopwords = p_list + stop_words\n",
        "processando = []\n",
        "for r in df['descricao_reclamacao']:\n",
        "  nova_lista = []\n",
        "  r = r.lower()\n",
        "  token_text = tk_punct.tokenize(r)\n",
        "  for w in token_text:\n",
        "    if w not in pontuacao_stopwords:\n",
        "      nova_lista.append(w)\n",
        "  processando.append(' '.join(nova_lista))\n",
        "\n",
        "df['normalizacao'] = processando"
      ],
      "metadata": {
        "id": "kKnH26oTtDB9"
      },
      "execution_count": 61,
      "outputs": []
    },
    {
      "cell_type": "code",
      "source": [
        "!pip install unidecode"
      ],
      "metadata": {
        "id": "u5nQrn0JvNQK"
      },
      "execution_count": null,
      "outputs": []
    },
    {
      "cell_type": "code",
      "source": [
        "#Ainda falta remover os acentos da coluna normalizada\n",
        "import unidecode\n",
        "sem_acentos = [unidecode.unidecode(texto) for texto in df['normalizacao']]\n",
        "sem_acentos[1]"
      ],
      "metadata": {
        "colab": {
          "base_uri": "https://localhost:8080/",
          "height": 53
        },
        "id": "iv8fz8u_u6NG",
        "outputId": "a822f2b8-e34a-4deb-9eb5-1c140f538fd4"
      },
      "execution_count": 62,
      "outputs": [
        {
          "output_type": "execute_result",
          "data": {
            "text/plain": [
              "'atualizei cartao 2018 informado agente fez atualizacao data aniversario mudaria virou agente dando informacoes erradas atualizar conta alterou data aniversario consentimento gravacao agente enganou'"
            ],
            "application/vnd.google.colaboratory.intrinsic+json": {
              "type": "string"
            }
          },
          "metadata": {},
          "execution_count": 62
        }
      ]
    },
    {
      "cell_type": "code",
      "source": [
        "#Adicionando osstopwords sem acento a lista de stopwords\n",
        "stopwords_sem_acentos = [unidecode.unidecode(texto) for texto in pontuacao_stopwords]\n",
        "df['normalizacao'] = sem_acentos\n",
        "\n",
        "processando_2 = []\n",
        "for r in df['normalizacao']:\n",
        "  nova_lista = []\n",
        "  palavras_texto = tk_punct.tokenize(r)\n",
        "  for palavra in palavras_texto:\n",
        "    if palavra not in stopwords_sem_acentos:\n",
        "      nova_lista.append(palavra)\n",
        "  processando_2.append(' '.join(nova_lista))\n",
        "\n",
        "df['normalizacao'] = processando_2"
      ],
      "metadata": {
        "id": "Ofy9titbza8m"
      },
      "execution_count": 63,
      "outputs": []
    },
    {
      "cell_type": "code",
      "source": [
        "#O resultado pode ser comparado entre as colunas 'descricao_reclamacao' e 'normalizacao'\n",
        "#Vamos também mudar a ordem de como as colunas serão visualizadas para uma melhor compreensão\n",
        "df[['descricao_reclamacao', 'normalizacao', 'categoria','classificacao']].head()"
      ],
      "metadata": {
        "colab": {
          "base_uri": "https://localhost:8080/",
          "height": 368
        },
        "id": "ZW7qYbu8vVpb",
        "outputId": "7e893ece-3639-4040-ed18-5fa9dee3fed6"
      },
      "execution_count": 64,
      "outputs": [
        {
          "output_type": "execute_result",
          "data": {
            "text/plain": [
              "                                            descricao_reclamacao  \\\n",
              "id_reclamacao                                                      \n",
              "3229299        Bom dia, meu nome é   e agradeço se você puder...   \n",
              "3199379        Atualizei meu cartão   em //2018 e fui informa...   \n",
              "3233499        O cartão Chase foi relatado em //2019. No enta...   \n",
              "3180294        Em //2018, enquanto tentava reservar um ticket...   \n",
              "3224980        Meu neto me dê cheque por {$ 1600,00} Eu depos...   \n",
              "\n",
              "                                                    normalizacao  \\\n",
              "id_reclamacao                                                      \n",
              "3229299        bom dia nome agradeco puder ajudar acabar serv...   \n",
              "3199379        atualizei cartao 2018 informado agente fez atu...   \n",
              "3233499        cartao chase relatado 2019 entanto pedido frau...   \n",
              "3180294        2018 enquanto tentava reservar ticket deparei ...   \n",
              "3224980        neto cheque 1600 00 depositei conta chase fund...   \n",
              "\n",
              "                                         categoria  classificacao  \n",
              "id_reclamacao                                                      \n",
              "3229299                    Hipotecas / Empréstimos              3  \n",
              "3199379        Cartão de crédito / Cartão pré-pago              1  \n",
              "3233499        Cartão de crédito / Cartão pré-pago              1  \n",
              "3180294        Cartão de crédito / Cartão pré-pago              1  \n",
              "3224980                 Serviços de conta bancária              0  "
            ],
            "text/html": [
              "\n",
              "  <div id=\"df-b50cee11-f367-418a-a663-ba49766157d8\">\n",
              "    <div class=\"colab-df-container\">\n",
              "      <div>\n",
              "<style scoped>\n",
              "    .dataframe tbody tr th:only-of-type {\n",
              "        vertical-align: middle;\n",
              "    }\n",
              "\n",
              "    .dataframe tbody tr th {\n",
              "        vertical-align: top;\n",
              "    }\n",
              "\n",
              "    .dataframe thead th {\n",
              "        text-align: right;\n",
              "    }\n",
              "</style>\n",
              "<table border=\"1\" class=\"dataframe\">\n",
              "  <thead>\n",
              "    <tr style=\"text-align: right;\">\n",
              "      <th></th>\n",
              "      <th>descricao_reclamacao</th>\n",
              "      <th>normalizacao</th>\n",
              "      <th>categoria</th>\n",
              "      <th>classificacao</th>\n",
              "    </tr>\n",
              "    <tr>\n",
              "      <th>id_reclamacao</th>\n",
              "      <th></th>\n",
              "      <th></th>\n",
              "      <th></th>\n",
              "      <th></th>\n",
              "    </tr>\n",
              "  </thead>\n",
              "  <tbody>\n",
              "    <tr>\n",
              "      <th>3229299</th>\n",
              "      <td>Bom dia, meu nome é   e agradeço se você puder...</td>\n",
              "      <td>bom dia nome agradeco puder ajudar acabar serv...</td>\n",
              "      <td>Hipotecas / Empréstimos</td>\n",
              "      <td>3</td>\n",
              "    </tr>\n",
              "    <tr>\n",
              "      <th>3199379</th>\n",
              "      <td>Atualizei meu cartão   em //2018 e fui informa...</td>\n",
              "      <td>atualizei cartao 2018 informado agente fez atu...</td>\n",
              "      <td>Cartão de crédito / Cartão pré-pago</td>\n",
              "      <td>1</td>\n",
              "    </tr>\n",
              "    <tr>\n",
              "      <th>3233499</th>\n",
              "      <td>O cartão Chase foi relatado em //2019. No enta...</td>\n",
              "      <td>cartao chase relatado 2019 entanto pedido frau...</td>\n",
              "      <td>Cartão de crédito / Cartão pré-pago</td>\n",
              "      <td>1</td>\n",
              "    </tr>\n",
              "    <tr>\n",
              "      <th>3180294</th>\n",
              "      <td>Em //2018, enquanto tentava reservar um ticket...</td>\n",
              "      <td>2018 enquanto tentava reservar ticket deparei ...</td>\n",
              "      <td>Cartão de crédito / Cartão pré-pago</td>\n",
              "      <td>1</td>\n",
              "    </tr>\n",
              "    <tr>\n",
              "      <th>3224980</th>\n",
              "      <td>Meu neto me dê cheque por {$ 1600,00} Eu depos...</td>\n",
              "      <td>neto cheque 1600 00 depositei conta chase fund...</td>\n",
              "      <td>Serviços de conta bancária</td>\n",
              "      <td>0</td>\n",
              "    </tr>\n",
              "  </tbody>\n",
              "</table>\n",
              "</div>\n",
              "      <button class=\"colab-df-convert\" onclick=\"convertToInteractive('df-b50cee11-f367-418a-a663-ba49766157d8')\"\n",
              "              title=\"Convert this dataframe to an interactive table.\"\n",
              "              style=\"display:none;\">\n",
              "        \n",
              "  <svg xmlns=\"http://www.w3.org/2000/svg\" height=\"24px\"viewBox=\"0 0 24 24\"\n",
              "       width=\"24px\">\n",
              "    <path d=\"M0 0h24v24H0V0z\" fill=\"none\"/>\n",
              "    <path d=\"M18.56 5.44l.94 2.06.94-2.06 2.06-.94-2.06-.94-.94-2.06-.94 2.06-2.06.94zm-11 1L8.5 8.5l.94-2.06 2.06-.94-2.06-.94L8.5 2.5l-.94 2.06-2.06.94zm10 10l.94 2.06.94-2.06 2.06-.94-2.06-.94-.94-2.06-.94 2.06-2.06.94z\"/><path d=\"M17.41 7.96l-1.37-1.37c-.4-.4-.92-.59-1.43-.59-.52 0-1.04.2-1.43.59L10.3 9.45l-7.72 7.72c-.78.78-.78 2.05 0 2.83L4 21.41c.39.39.9.59 1.41.59.51 0 1.02-.2 1.41-.59l7.78-7.78 2.81-2.81c.8-.78.8-2.07 0-2.86zM5.41 20L4 18.59l7.72-7.72 1.47 1.35L5.41 20z\"/>\n",
              "  </svg>\n",
              "      </button>\n",
              "      \n",
              "  <style>\n",
              "    .colab-df-container {\n",
              "      display:flex;\n",
              "      flex-wrap:wrap;\n",
              "      gap: 12px;\n",
              "    }\n",
              "\n",
              "    .colab-df-convert {\n",
              "      background-color: #E8F0FE;\n",
              "      border: none;\n",
              "      border-radius: 50%;\n",
              "      cursor: pointer;\n",
              "      display: none;\n",
              "      fill: #1967D2;\n",
              "      height: 32px;\n",
              "      padding: 0 0 0 0;\n",
              "      width: 32px;\n",
              "    }\n",
              "\n",
              "    .colab-df-convert:hover {\n",
              "      background-color: #E2EBFA;\n",
              "      box-shadow: 0px 1px 2px rgba(60, 64, 67, 0.3), 0px 1px 3px 1px rgba(60, 64, 67, 0.15);\n",
              "      fill: #174EA6;\n",
              "    }\n",
              "\n",
              "    [theme=dark] .colab-df-convert {\n",
              "      background-color: #3B4455;\n",
              "      fill: #D2E3FC;\n",
              "    }\n",
              "\n",
              "    [theme=dark] .colab-df-convert:hover {\n",
              "      background-color: #434B5C;\n",
              "      box-shadow: 0px 1px 3px 1px rgba(0, 0, 0, 0.15);\n",
              "      filter: drop-shadow(0px 1px 2px rgba(0, 0, 0, 0.3));\n",
              "      fill: #FFFFFF;\n",
              "    }\n",
              "  </style>\n",
              "\n",
              "      <script>\n",
              "        const buttonEl =\n",
              "          document.querySelector('#df-b50cee11-f367-418a-a663-ba49766157d8 button.colab-df-convert');\n",
              "        buttonEl.style.display =\n",
              "          google.colab.kernel.accessAllowed ? 'block' : 'none';\n",
              "\n",
              "        async function convertToInteractive(key) {\n",
              "          const element = document.querySelector('#df-b50cee11-f367-418a-a663-ba49766157d8');\n",
              "          const dataTable =\n",
              "            await google.colab.kernel.invokeFunction('convertToInteractive',\n",
              "                                                     [key], {});\n",
              "          if (!dataTable) return;\n",
              "\n",
              "          const docLinkHtml = 'Like what you see? Visit the ' +\n",
              "            '<a target=\"_blank\" href=https://colab.research.google.com/notebooks/data_table.ipynb>data table notebook</a>'\n",
              "            + ' to learn more about interactive tables.';\n",
              "          element.innerHTML = '';\n",
              "          dataTable['output_type'] = 'display_data';\n",
              "          await google.colab.output.renderOutput(dataTable, element);\n",
              "          const docLink = document.createElement('div');\n",
              "          docLink.innerHTML = docLinkHtml;\n",
              "          element.appendChild(docLink);\n",
              "        }\n",
              "      </script>\n",
              "    </div>\n",
              "  </div>\n",
              "  "
            ]
          },
          "metadata": {},
          "execution_count": 64
        }
      ]
    },
    {
      "cell_type": "markdown",
      "source": [
        "###Nuvem de Palavras"
      ],
      "metadata": {
        "id": "Bn7ArNtt3rDy"
      }
    },
    {
      "cell_type": "code",
      "source": [
        "!pip install wordcloud"
      ],
      "metadata": {
        "id": "X8SRN1Re3vrk"
      },
      "execution_count": null,
      "outputs": []
    },
    {
      "cell_type": "code",
      "source": [
        "%matplotlib inline\n",
        "from wordcloud import WordCloud"
      ],
      "metadata": {
        "id": "BUw9hL2N5XmO"
      },
      "execution_count": 66,
      "outputs": []
    },
    {
      "cell_type": "code",
      "source": [
        "todas_palavras = [texto for texto in df.normalizacao]\n",
        "todas_palavras[:1]"
      ],
      "metadata": {
        "colab": {
          "base_uri": "https://localhost:8080/"
        },
        "id": "sWUyTso95aF7",
        "outputId": "b208a6b6-0341-4a3b-df81-467415212410"
      },
      "execution_count": 67,
      "outputs": [
        {
          "output_type": "execute_result",
          "data": {
            "text/plain": [
              "['bom dia nome agradeco puder ajudar acabar servicos membro cartao bancario 2018 escrevi chase solicitar verificacao divida enviaram declaracao aceitavel pedindo banco valide divida vez disso recebi mails todos meses tentando coletar divida direito conhecer informacoes consumidor conta chase obrigado antecipadamente ajuda']"
            ]
          },
          "metadata": {},
          "execution_count": 67
        }
      ]
    },
    {
      "cell_type": "code",
      "source": [
        "todas_palavras = ' '.join([texto for texto in df.normalizacao])\n",
        "todas_palavras[:10]"
      ],
      "metadata": {
        "colab": {
          "base_uri": "https://localhost:8080/",
          "height": 35
        },
        "id": "7GK5nXvM5sBL",
        "outputId": "a651d412-f1fa-40f8-bbeb-49b5e09bc6dd"
      },
      "execution_count": 68,
      "outputs": [
        {
          "output_type": "execute_result",
          "data": {
            "text/plain": [
              "'bom dia no'"
            ],
            "application/vnd.google.colaboratory.intrinsic+json": {
              "type": "string"
            }
          },
          "metadata": {},
          "execution_count": 68
        }
      ]
    },
    {
      "cell_type": "code",
      "source": [
        "len(todas_palavras)"
      ],
      "metadata": {
        "colab": {
          "base_uri": "https://localhost:8080/"
        },
        "id": "VeHMa6kL5yum",
        "outputId": "e009ec5a-cac5-4604-ae01-3087b8a6c738"
      },
      "execution_count": 69,
      "outputs": [
        {
          "output_type": "execute_result",
          "data": {
            "text/plain": [
              "20074062"
            ]
          },
          "metadata": {},
          "execution_count": 69
        }
      ]
    },
    {
      "cell_type": "code",
      "source": [
        "nuvem_palavras = WordCloud(width=800, height= 500,\n",
        "                           max_font_size=110, collocations=False).generate(todas_palavras)"
      ],
      "metadata": {
        "id": "Rk9t_9ul56lF"
      },
      "execution_count": 70,
      "outputs": []
    },
    {
      "cell_type": "code",
      "source": [
        "import matplotlib.pyplot as plt\n",
        "\n",
        "plt.figure(figsize=(10,7))\n",
        "plt.imshow(nuvem_palavras, interpolation='bilinear')\n",
        "plt.axis('off')\n",
        "plt"
      ],
      "metadata": {
        "colab": {
          "base_uri": "https://localhost:8080/",
          "height": 398
        },
        "id": "1ZSfF3ms52Fn",
        "outputId": "4028330b-0c4d-4c31-8ded-42d62a54aaf1"
      },
      "execution_count": 71,
      "outputs": [
        {
          "output_type": "execute_result",
          "data": {
            "text/plain": [
              "<module 'matplotlib.pyplot' from '/usr/local/lib/python3.8/dist-packages/matplotlib/pyplot.py'>"
            ]
          },
          "metadata": {},
          "execution_count": 71
        },
        {
          "output_type": "display_data",
          "data": {
            "text/plain": [
              "<Figure size 720x504 with 1 Axes>"
            ],
            "image/png": "[encoded data removed]"
          },
          "metadata": {
            "needs_background": "light"
          }
        }
      ]
    },
    {
      "cell_type": "markdown",
      "source": [
        "###Aplicando o primeiro round de modelos"
      ],
      "metadata": {
        "id": "ennuCZMoHGE7"
      }
    },
    {
      "cell_type": "code",
      "source": [
        "#Vetorização do Dataset\n",
        "\n",
        "from sklearn.feature_extraction.text import CountVectorizer\n",
        "\n",
        "vetorizer = CountVectorizer(lowercase=False)\n",
        "vector_01 = vetorizer.fit_transform(df.normalizacao)\n",
        "print(vector_01.shape)"
      ],
      "metadata": {
        "colab": {
          "base_uri": "https://localhost:8080/"
        },
        "id": "xOMBsiXpHPa_",
        "outputId": "c46ff8c0-f74b-4425-c1d5-235fe80a3107"
      },
      "execution_count": 73,
      "outputs": [
        {
          "output_type": "stream",
          "name": "stdout",
          "text": [
            "(21072, 41219)\n"
          ]
        }
      ]
    },
    {
      "cell_type": "code",
      "source": [
        "#Dividindo o dataset entre Treino e Teste\n",
        "\n",
        "from sklearn.model_selection import train_test_split\n",
        "\n",
        "X_train, X_test, y_train, y_test = train_test_split(\n",
        "    vector_01, df.classificacao, test_size=0.25, random_state=42)"
      ],
      "metadata": {
        "id": "8toIp0eyHPhR"
      },
      "execution_count": 80,
      "outputs": []
    },
    {
      "cell_type": "code",
      "source": [
        "#Aplicando em um modelo de Regressão Logistica\n",
        "from nltk.tag.api import accuracy\n",
        "from sklearn.linear_model import LogisticRegression\n",
        "\n",
        "LR_model = LogisticRegression(solver='lbfgs', max_iter=1000)\n",
        "LR_model.fit(X_train, y_train)\n",
        "LR_acuracia_01 = LR_model.score(X_test, y_test)\n",
        "\n",
        "print('A acuracia do primeiro modelo de Regressão Logistica aplicada é ',LR_acuracia_01)"
      ],
      "metadata": {
        "colab": {
          "base_uri": "https://localhost:8080/"
        },
        "id": "wdsGLWIfHPl-",
        "outputId": "ddedd744-80ea-484c-b4e2-151064281621"
      },
      "execution_count": 81,
      "outputs": [
        {
          "output_type": "stream",
          "name": "stdout",
          "text": [
            "A acuracia do primeiro modelo de Regressão Logistica aplicada é  0.9018602885345482\n"
          ]
        }
      ]
    },
    {
      "cell_type": "code",
      "source": [
        "#E agora em um modelo de Multinomial Naive Bayes\n",
        "\n",
        "from sklearn.naive_bayes import MultinomialNB\n",
        "\n",
        "MNB_model = MultinomialNB()\n",
        "MNB_model.fit(X_train, y_train)\n",
        "MNB_acuracia_01 = MNB_model.score(X_test, y_test)\n",
        "\n",
        "print('A acuracia do primeiro modelo de Multinomial Naive Bayes aplicada é ', MNB_acuracia_01)"
      ],
      "metadata": {
        "colab": {
          "base_uri": "https://localhost:8080/"
        },
        "id": "T1H-WMcPKgtc",
        "outputId": "f7f53029-586d-4f4d-f5e9-9b5f96dbc667"
      },
      "execution_count": 82,
      "outputs": [
        {
          "output_type": "stream",
          "name": "stdout",
          "text": [
            "A acuracia do primeiro modelo de Multinomial Naive Bayes aplicada é  0.8109339407744874\n"
          ]
        }
      ]
    },
    {
      "cell_type": "code",
      "source": [
        "#E finalmente para o modelo de Árvore de Decisão\n",
        "\n",
        "from sklearn.tree import DecisionTreeClassifier\n",
        "from sklearn import tree\n",
        "\n",
        "DT_model = DecisionTreeClassifier(max_depth=15, random_state=0)\n",
        "DT_model.fit(X_train, y_train)\n",
        "DT_acuracia_01 = DT_model.score(X_test, y_test)\n",
        "\n",
        "print('A acuracia do primeiro modelo de Árvore de Decisão aplicada é ', DT_acuracia_01)"
      ],
      "metadata": {
        "colab": {
          "base_uri": "https://localhost:8080/"
        },
        "id": "Axh5tKwyK7vl",
        "outputId": "c33bbf2f-f2a7-4b10-e087-1e7132490c16"
      },
      "execution_count": 83,
      "outputs": [
        {
          "output_type": "stream",
          "name": "stdout",
          "text": [
            "A acuracia do primeiro modelo de Árvore de Decisão aplicada é  0.7365223993925588\n"
          ]
        }
      ]
    },
    {
      "cell_type": "markdown",
      "source": [
        "**Conclusão do primeira rodada de aplicação do modelo:** A Regressão Logistica foi a que se saiu melhor."
      ],
      "metadata": {
        "id": "7pY34n2bL_F4"
      }
    },
    {
      "cell_type": "markdown",
      "source": [
        "#Stemming and Lemmatization "
      ],
      "metadata": {
        "id": "AaAM_ZZvMbI9"
      }
    },
    {
      "cell_type": "code",
      "source": [
        "#Instalação dos pacotes\n",
        "from nltk.stem import PorterStemmer\n",
        "from nltk.stem.rslp import RSLPStemmer\n",
        "import nltk\n",
        "nltk.download('rslp')\n",
        "nltk.download('punkt')\n",
        "nltk.download('omw-1.4')\n",
        "nltk.download('wordnet') "
      ],
      "metadata": {
        "colab": {
          "base_uri": "https://localhost:8080/"
        },
        "id": "Z3JvhFtgMZBK",
        "outputId": "bd633ff3-836e-4ef7-87cc-8a207bd68d88"
      },
      "execution_count": 85,
      "outputs": [
        {
          "output_type": "stream",
          "name": "stderr",
          "text": [
            "[nltk_data] Downloading package rslp to /root/nltk_data...\n",
            "[nltk_data]   Unzipping stemmers/rslp.zip.\n",
            "[nltk_data] Downloading package punkt to /root/nltk_data...\n",
            "[nltk_data]   Unzipping tokenizers/punkt.zip.\n",
            "[nltk_data] Downloading package omw-1.4 to /root/nltk_data...\n",
            "[nltk_data] Downloading package wordnet to /root/nltk_data...\n"
          ]
        },
        {
          "output_type": "execute_result",
          "data": {
            "text/plain": [
              "True"
            ]
          },
          "metadata": {},
          "execution_count": 85
        }
      ]
    },
    {
      "cell_type": "code",
      "source": [
        "#Iremos agora criar uma nova coluna no Dataset chamada 'Tokens' onde serão aplicadas o Stemming and Lematização\n",
        "from nltk.stem import WordNetLemmatizer\n",
        "from nltk.tokenize import word_tokenize\n",
        "df['tokens'] = df.normalizacao.apply(word_tokenize)"
      ],
      "metadata": {
        "id": "zrgiPKAzM381"
      },
      "execution_count": 86,
      "outputs": []
    },
    {
      "cell_type": "code",
      "source": [
        "#Aplicação do Stemming\n",
        "\n",
        "rslp = RSLPStemmer()\n",
        "\n",
        "def stemmer(line):\n",
        "  return ' '.join([rslp.stem(token) for token in line])\n",
        "  \n",
        "df['tokens'] = df.tokens.apply(stemmer)"
      ],
      "metadata": {
        "id": "PLsSqXaAM4AM"
      },
      "execution_count": 87,
      "outputs": []
    },
    {
      "cell_type": "code",
      "source": [
        "#Aplicação do Lematização\n",
        "\n",
        "df['tokens'] = [WordNetLemmatizer().lemmatize(w) for w in df['tokens']]"
      ],
      "metadata": {
        "id": "YDQ3I619M4DX"
      },
      "execution_count": 88,
      "outputs": []
    },
    {
      "cell_type": "code",
      "source": [
        "df.head(5)"
      ],
      "metadata": {
        "colab": {
          "base_uri": "https://localhost:8080/",
          "height": 368
        },
        "id": "16t6Ji10M4GQ",
        "outputId": "5ac6665d-e783-4ecc-d78d-9f3ab8f812b1"
      },
      "execution_count": 89,
      "outputs": [
        {
          "output_type": "execute_result",
          "data": {
            "text/plain": [
              "                                         categoria  \\\n",
              "id_reclamacao                                        \n",
              "3229299                    Hipotecas / Empréstimos   \n",
              "3199379        Cartão de crédito / Cartão pré-pago   \n",
              "3233499        Cartão de crédito / Cartão pré-pago   \n",
              "3180294        Cartão de crédito / Cartão pré-pago   \n",
              "3224980                 Serviços de conta bancária   \n",
              "\n",
              "                                            descricao_reclamacao  \\\n",
              "id_reclamacao                                                      \n",
              "3229299        Bom dia, meu nome é   e agradeço se você puder...   \n",
              "3199379        Atualizei meu cartão   em //2018 e fui informa...   \n",
              "3233499        O cartão Chase foi relatado em //2019. No enta...   \n",
              "3180294        Em //2018, enquanto tentava reservar um ticket...   \n",
              "3224980        Meu neto me dê cheque por {$ 1600,00} Eu depos...   \n",
              "\n",
              "               classificacao  \\\n",
              "id_reclamacao                  \n",
              "3229299                    3   \n",
              "3199379                    1   \n",
              "3233499                    1   \n",
              "3180294                    1   \n",
              "3224980                    0   \n",
              "\n",
              "                                                    normalizacao  \\\n",
              "id_reclamacao                                                      \n",
              "3229299        bom dia nome agradeco puder ajudar acabar serv...   \n",
              "3199379        atualizei cartao 2018 informado agente fez atu...   \n",
              "3233499        cartao chase relatado 2019 entanto pedido frau...   \n",
              "3180294        2018 enquanto tentava reservar ticket deparei ...   \n",
              "3224980        neto cheque 1600 00 depositei conta chase fund...   \n",
              "\n",
              "                                                          tokens  \n",
              "id_reclamacao                                                     \n",
              "3229299        bom dia nom agradec pud ajud acab serv membr c...  \n",
              "3199379        atualiz carta 2018 inform agent fez atualizaca...  \n",
              "3233499        carta chas relat 2019 entant ped fraudulent en...  \n",
              "3180294        2018 enquant tent reserv ticket dep ofert 300 ...  \n",
              "3224980        net chequ 1600 00 deposit cont chas fund limp ...  "
            ],
            "text/html": [
              "\n",
              "  <div id=\"df-c902bd15-6db3-4ac3-b2b1-d744caf926a5\">\n",
              "    <div class=\"colab-df-container\">\n",
              "      <div>\n",
              "<style scoped>\n",
              "    .dataframe tbody tr th:only-of-type {\n",
              "        vertical-align: middle;\n",
              "    }\n",
              "\n",
              "    .dataframe tbody tr th {\n",
              "        vertical-align: top;\n",
              "    }\n",
              "\n",
              "    .dataframe thead th {\n",
              "        text-align: right;\n",
              "    }\n",
              "</style>\n",
              "<table border=\"1\" class=\"dataframe\">\n",
              "  <thead>\n",
              "    <tr style=\"text-align: right;\">\n",
              "      <th></th>\n",
              "      <th>categoria</th>\n",
              "      <th>descricao_reclamacao</th>\n",
              "      <th>classificacao</th>\n",
              "      <th>normalizacao</th>\n",
              "      <th>tokens</th>\n",
              "    </tr>\n",
              "    <tr>\n",
              "      <th>id_reclamacao</th>\n",
              "      <th></th>\n",
              "      <th></th>\n",
              "      <th></th>\n",
              "      <th></th>\n",
              "      <th></th>\n",
              "    </tr>\n",
              "  </thead>\n",
              "  <tbody>\n",
              "    <tr>\n",
              "      <th>3229299</th>\n",
              "      <td>Hipotecas / Empréstimos</td>\n",
              "      <td>Bom dia, meu nome é   e agradeço se você puder...</td>\n",
              "      <td>3</td>\n",
              "      <td>bom dia nome agradeco puder ajudar acabar serv...</td>\n",
              "      <td>bom dia nom agradec pud ajud acab serv membr c...</td>\n",
              "    </tr>\n",
              "    <tr>\n",
              "      <th>3199379</th>\n",
              "      <td>Cartão de crédito / Cartão pré-pago</td>\n",
              "      <td>Atualizei meu cartão   em //2018 e fui informa...</td>\n",
              "      <td>1</td>\n",
              "      <td>atualizei cartao 2018 informado agente fez atu...</td>\n",
              "      <td>atualiz carta 2018 inform agent fez atualizaca...</td>\n",
              "    </tr>\n",
              "    <tr>\n",
              "      <th>3233499</th>\n",
              "      <td>Cartão de crédito / Cartão pré-pago</td>\n",
              "      <td>O cartão Chase foi relatado em //2019. No enta...</td>\n",
              "      <td>1</td>\n",
              "      <td>cartao chase relatado 2019 entanto pedido frau...</td>\n",
              "      <td>carta chas relat 2019 entant ped fraudulent en...</td>\n",
              "    </tr>\n",
              "    <tr>\n",
              "      <th>3180294</th>\n",
              "      <td>Cartão de crédito / Cartão pré-pago</td>\n",
              "      <td>Em //2018, enquanto tentava reservar um ticket...</td>\n",
              "      <td>1</td>\n",
              "      <td>2018 enquanto tentava reservar ticket deparei ...</td>\n",
              "      <td>2018 enquant tent reserv ticket dep ofert 300 ...</td>\n",
              "    </tr>\n",
              "    <tr>\n",
              "      <th>3224980</th>\n",
              "      <td>Serviços de conta bancária</td>\n",
              "      <td>Meu neto me dê cheque por {$ 1600,00} Eu depos...</td>\n",
              "      <td>0</td>\n",
              "      <td>neto cheque 1600 00 depositei conta chase fund...</td>\n",
              "      <td>net chequ 1600 00 deposit cont chas fund limp ...</td>\n",
              "    </tr>\n",
              "  </tbody>\n",
              "</table>\n",
              "</div>\n",
              "      <button class=\"colab-df-convert\" onclick=\"convertToInteractive('df-c902bd15-6db3-4ac3-b2b1-d744caf926a5')\"\n",
              "              title=\"Convert this dataframe to an interactive table.\"\n",
              "              style=\"display:none;\">\n",
              "        \n",
              "  <svg xmlns=\"http://www.w3.org/2000/svg\" height=\"24px\"viewBox=\"0 0 24 24\"\n",
              "       width=\"24px\">\n",
              "    <path d=\"M0 0h24v24H0V0z\" fill=\"none\"/>\n",
              "    <path d=\"M18.56 5.44l.94 2.06.94-2.06 2.06-.94-2.06-.94-.94-2.06-.94 2.06-2.06.94zm-11 1L8.5 8.5l.94-2.06 2.06-.94-2.06-.94L8.5 2.5l-.94 2.06-2.06.94zm10 10l.94 2.06.94-2.06 2.06-.94-2.06-.94-.94-2.06-.94 2.06-2.06.94z\"/><path d=\"M17.41 7.96l-1.37-1.37c-.4-.4-.92-.59-1.43-.59-.52 0-1.04.2-1.43.59L10.3 9.45l-7.72 7.72c-.78.78-.78 2.05 0 2.83L4 21.41c.39.39.9.59 1.41.59.51 0 1.02-.2 1.41-.59l7.78-7.78 2.81-2.81c.8-.78.8-2.07 0-2.86zM5.41 20L4 18.59l7.72-7.72 1.47 1.35L5.41 20z\"/>\n",
              "  </svg>\n",
              "      </button>\n",
              "      \n",
              "  <style>\n",
              "    .colab-df-container {\n",
              "      display:flex;\n",
              "      flex-wrap:wrap;\n",
              "      gap: 12px;\n",
              "    }\n",
              "\n",
              "    .colab-df-convert {\n",
              "      background-color: #E8F0FE;\n",
              "      border: none;\n",
              "      border-radius: 50%;\n",
              "      cursor: pointer;\n",
              "      display: none;\n",
              "      fill: #1967D2;\n",
              "      height: 32px;\n",
              "      padding: 0 0 0 0;\n",
              "      width: 32px;\n",
              "    }\n",
              "\n",
              "    .colab-df-convert:hover {\n",
              "      background-color: #E2EBFA;\n",
              "      box-shadow: 0px 1px 2px rgba(60, 64, 67, 0.3), 0px 1px 3px 1px rgba(60, 64, 67, 0.15);\n",
              "      fill: #174EA6;\n",
              "    }\n",
              "\n",
              "    [theme=dark] .colab-df-convert {\n",
              "      background-color: #3B4455;\n",
              "      fill: #D2E3FC;\n",
              "    }\n",
              "\n",
              "    [theme=dark] .colab-df-convert:hover {\n",
              "      background-color: #434B5C;\n",
              "      box-shadow: 0px 1px 3px 1px rgba(0, 0, 0, 0.15);\n",
              "      filter: drop-shadow(0px 1px 2px rgba(0, 0, 0, 0.3));\n",
              "      fill: #FFFFFF;\n",
              "    }\n",
              "  </style>\n",
              "\n",
              "      <script>\n",
              "        const buttonEl =\n",
              "          document.querySelector('#df-c902bd15-6db3-4ac3-b2b1-d744caf926a5 button.colab-df-convert');\n",
              "        buttonEl.style.display =\n",
              "          google.colab.kernel.accessAllowed ? 'block' : 'none';\n",
              "\n",
              "        async function convertToInteractive(key) {\n",
              "          const element = document.querySelector('#df-c902bd15-6db3-4ac3-b2b1-d744caf926a5');\n",
              "          const dataTable =\n",
              "            await google.colab.kernel.invokeFunction('convertToInteractive',\n",
              "                                                     [key], {});\n",
              "          if (!dataTable) return;\n",
              "\n",
              "          const docLinkHtml = 'Like what you see? Visit the ' +\n",
              "            '<a target=\"_blank\" href=https://colab.research.google.com/notebooks/data_table.ipynb>data table notebook</a>'\n",
              "            + ' to learn more about interactive tables.';\n",
              "          element.innerHTML = '';\n",
              "          dataTable['output_type'] = 'display_data';\n",
              "          await google.colab.output.renderOutput(dataTable, element);\n",
              "          const docLink = document.createElement('div');\n",
              "          docLink.innerHTML = docLinkHtml;\n",
              "          element.appendChild(docLink);\n",
              "        }\n",
              "      </script>\n",
              "    </div>\n",
              "  </div>\n",
              "  "
            ]
          },
          "metadata": {},
          "execution_count": 89
        }
      ]
    },
    {
      "cell_type": "markdown",
      "source": [
        "###Aplicando o segundo round de modelos, agora na coluna 'Tokens'"
      ],
      "metadata": {
        "id": "PnqNob54OUbo"
      }
    },
    {
      "cell_type": "code",
      "source": [
        "#Vetorização do Dataset\n",
        "vetorizer = CountVectorizer(lowercase=False)\n",
        "vector_02 = vetorizer.fit_transform(df.tokens)\n",
        "print(vector_02.shape)"
      ],
      "metadata": {
        "colab": {
          "base_uri": "https://localhost:8080/"
        },
        "id": "SOK55oFhOQ7a",
        "outputId": "4c300d62-8b5e-4a8b-a47a-27e3fc9dec3e"
      },
      "execution_count": 103,
      "outputs": [
        {
          "output_type": "stream",
          "name": "stdout",
          "text": [
            "(21072, 18634)\n"
          ]
        }
      ]
    },
    {
      "cell_type": "code",
      "source": [
        "#Dividindo o dataset entre Treino e Teste\n",
        "X_train, X_test, y_train, y_test = train_test_split(\n",
        "    vector_02, df.classificacao, test_size=0.25, random_state=42)"
      ],
      "metadata": {
        "id": "BeisEg9lOyaK"
      },
      "execution_count": 104,
      "outputs": []
    },
    {
      "cell_type": "code",
      "source": [
        "#Modelo de Regressão Logistica\n",
        "LR_model = LogisticRegression(solver='lbfgs', max_iter=1000)\n",
        "LR_model.fit(X_train, y_train)\n",
        "LR_acuracia_02 = LR_model.score(X_test, y_test)\n",
        "\n",
        "print('A acuracia do segundo modelo de Regressão Logistica aplicada é ',LR_acuracia_02)"
      ],
      "metadata": {
        "colab": {
          "base_uri": "https://localhost:8080/"
        },
        "id": "IuDj4wXkO5Un",
        "outputId": "f62ab0f7-4167-4b86-d0a2-1ab51d04aaad"
      },
      "execution_count": 105,
      "outputs": [
        {
          "output_type": "stream",
          "name": "stdout",
          "text": [
            "A acuracia do segundo modelo de Regressão Logistica aplicada é  0.8714882308276386\n"
          ]
        }
      ]
    },
    {
      "cell_type": "code",
      "source": [
        "#Modelo de Multinomial Naive Bayes\n",
        "MNB_model = MultinomialNB()\n",
        "MNB_model.fit(X_train, y_train)\n",
        "MNB_acuracia_02 = MNB_model.score(X_test, y_test)\n",
        "\n",
        "print('A acuracia do segundo modelo de Multinomial Naive Bayes aplicada é ', MNB_acuracia_02)"
      ],
      "metadata": {
        "colab": {
          "base_uri": "https://localhost:8080/"
        },
        "id": "MocrFG4vO5X9",
        "outputId": "3b1e8279-eede-4ff3-da91-01e53ebbd6d2"
      },
      "execution_count": 106,
      "outputs": [
        {
          "output_type": "stream",
          "name": "stdout",
          "text": [
            "A acuracia do segundo modelo de Multinomial Naive Bayes aplicada é  0.8109339407744874\n"
          ]
        }
      ]
    },
    {
      "cell_type": "code",
      "source": [
        "#Modelo de Árvore de Decisão\n",
        "DT_model = DecisionTreeClassifier(max_depth=15, random_state=0)\n",
        "DT_model.fit(X_train, y_train)\n",
        "DT_acuracia_02 = DT_model.score(X_test, y_test)\n",
        "\n",
        "print('A acuracia do segundo modelo de Árvore de Decisão aplicada é ', DT_acuracia_02)"
      ],
      "metadata": {
        "colab": {
          "base_uri": "https://localhost:8080/"
        },
        "id": "JimyGZaCO5bU",
        "outputId": "7933e64e-9e99-45c2-e0cd-75b731996fda"
      },
      "execution_count": 107,
      "outputs": [
        {
          "output_type": "stream",
          "name": "stdout",
          "text": [
            "A acuracia do segundo modelo de Árvore de Decisão aplicada é  0.7369020501138952\n"
          ]
        }
      ]
    },
    {
      "cell_type": "markdown",
      "source": [
        "**Conclusão do segunda rodada de aplicação do modelo:** Após a aplicação dos processos de Stemming and Lematização, notou-se que a acurácia caiu muito em relação a primeira tentativa. Sendo assim, iremos aplicar outros tratamentos sem esses processos."
      ],
      "metadata": {
        "id": "exhaa0NMPtN7"
      }
    },
    {
      "cell_type": "markdown",
      "source": [
        "#Vectorização com TF-IDF"
      ],
      "metadata": {
        "id": "yNyxvu30QY3L"
      }
    },
    {
      "cell_type": "code",
      "source": [
        "from sklearn.feature_extraction.text import TfidfVectorizer"
      ],
      "metadata": {
        "id": "GXzAIlnPO5ei"
      },
      "execution_count": 108,
      "outputs": []
    },
    {
      "cell_type": "code",
      "source": [
        "#Aplicando a vetorizaçao apenas em Unigrams \n",
        "tfidf = TfidfVectorizer(ngram_range=(1,1))\n",
        "\n",
        "vector_tfidf = tfidf.fit_transform(df['normalizacao'])\n",
        "X_train, X_test, y_train, y_test = train_test_split(\n",
        "    vector_tfidf, df.classificacao, test_size=0.25, random_state=42)\n",
        "\n",
        "LR_model.fit(X_train, y_train)\n",
        "LR_acuracia_03 = LR_model.score(X_test, y_test)\n",
        "\n",
        "MNB_model.fit(X_train, y_train)\n",
        "MNB_acuracia_03 = MNB_model.score(X_test, y_test)\n",
        "\n",
        "DT_model.fit(X_train, y_train)\n",
        "DT_acuracia_03 = DT_model.score(X_test, y_test)\n",
        "\n",
        "print('A acuracia do terceiro modelo de Regressão Logistica aplicada é ',LR_acuracia_03)\n",
        "print('A acuracia do terceiro modelo de Multinomial Naive Bayes aplicada é ', MNB_acuracia_03)\n",
        "print('A acuracia do terceiro modelo de Árvore de Decisão aplicada é ', DT_acuracia_03)"
      ],
      "metadata": {
        "colab": {
          "base_uri": "https://localhost:8080/"
        },
        "id": "WbfhrTcbO5h9",
        "outputId": "31bd87ed-311f-467e-f1bc-c7c136898b68"
      },
      "execution_count": 148,
      "outputs": [
        {
          "output_type": "stream",
          "name": "stdout",
          "text": [
            "A acuracia do terceiro modelo de Regressão Logistica aplicada é  0.9060364464692483\n",
            "A acuracia do terceiro modelo de Multinomial Naive Bayes aplicada é  0.7367122247532271\n",
            "A acuracia do terceiro modelo de Árvore de Decisão aplicada é  0.7574031890660592\n"
          ]
        }
      ]
    },
    {
      "cell_type": "code",
      "source": [
        "#Aplicando a vetorizaçao com Unigrams e Bigrams\n",
        "tfidf = TfidfVectorizer(ngram_range=(1,2))\n",
        "\n",
        "vector_tfidf = tfidf.fit_transform(df['normalizacao'])\n",
        "X_train, X_test, y_train, y_test = train_test_split(\n",
        "    vector_tfidf, df.classificacao, test_size=0.25, random_state=42)\n",
        "\n",
        "LR_model.fit(X_train, y_train)\n",
        "LR_acuracia_03 = LR_model.score(X_test, y_test)\n",
        "\n",
        "MNB_model.fit(X_train, y_train)\n",
        "MNB_acuracia_03 = MNB_model.score(X_test, y_test)\n",
        "\n",
        "DT_model.fit(X_train, y_train)\n",
        "DT_acuracia_03 = DT_model.score(X_test, y_test)\n",
        "\n",
        "print('A acuracia do terceiro modelo de Regressão Logistica aplicada é ',LR_acuracia_03)\n",
        "print('A acuracia do terceiro modelo de Multinomial Naive Bayes aplicada é ', MNB_acuracia_03)\n",
        "print('A acuracia do terceiro modelo de Árvore de Decisão aplicada é ', DT_acuracia_03)"
      ],
      "metadata": {
        "colab": {
          "base_uri": "https://localhost:8080/"
        },
        "id": "-SN2honSRTa8",
        "outputId": "a4d75b8c-d63a-42be-8358-5a23e26e6ed3"
      },
      "execution_count": 114,
      "outputs": [
        {
          "output_type": "stream",
          "name": "stdout",
          "text": [
            "A acuracia do terceiro modelo de Regressão Logistica aplicada é  0.8955960516324981\n",
            "A acuracia do terceiro modelo de Multinomial Naive Bayes aplicada é  0.7350037965072134\n",
            "A acuracia do terceiro modelo de Árvore de Decisão aplicada é  0.7596810933940774\n"
          ]
        }
      ]
    },
    {
      "cell_type": "code",
      "source": [
        "#Aplicando a vetorizaçao apenas em Bigrams\n",
        "tfidf = TfidfVectorizer(ngram_range=(2,2))\n",
        "\n",
        "vector_tfidf = tfidf.fit_transform(df['normalizacao'])\n",
        "X_train, X_test, y_train, y_test = train_test_split(\n",
        "    vector_tfidf, df.classificacao, test_size=0.25, random_state=42)\n",
        "\n",
        "LR_model.fit(X_train, y_train)\n",
        "LR_acuracia_03 = LR_model.score(X_test, y_test)\n",
        "\n",
        "MNB_model.fit(X_train, y_train)\n",
        "MNB_acuracia_03 = MNB_model.score(X_test, y_test)\n",
        "\n",
        "DT_model.fit(X_train, y_train)\n",
        "DT_acuracia_03 = DT_model.score(X_test, y_test)\n",
        "\n",
        "print('A acuracia do terceiro modelo de Regressão Logistica aplicada é ',LR_acuracia_03)\n",
        "print('A acuracia do terceiro modelo de Multinomial Naive Bayes aplicada é ', MNB_acuracia_03)\n",
        "print('A acuracia do terceiro modelo de Árvore de Decisão aplicada é ', DT_acuracia_03)"
      ],
      "metadata": {
        "colab": {
          "base_uri": "https://localhost:8080/"
        },
        "id": "Uop09yMyRTek",
        "outputId": "dbeeee74-321d-4b95-dcf3-141ee575a4cb"
      },
      "execution_count": 112,
      "outputs": [
        {
          "output_type": "stream",
          "name": "stdout",
          "text": [
            "A acuracia do terceiro modelo de Regressão Logistica aplicada é  0.7873955960516325\n",
            "A acuracia do terceiro modelo de Multinomial Naive Bayes aplicada é  0.7291192103264996\n",
            "'A acuracia do terceiro modelo de Árvore de Decisão aplicada é  0.5298025816249051\n"
          ]
        }
      ]
    },
    {
      "cell_type": "markdown",
      "source": [
        "#Usando a Biblioteca Spacy"
      ],
      "metadata": {
        "id": "N1nwAUBZflpa"
      }
    },
    {
      "cell_type": "code",
      "source": [
        "# Instalação dos pacotes Spacy\n",
        "!pip install spacy==3.2.0\n",
        "!python -m spacy download pt_core_news_sm"
      ],
      "metadata": {
        "id": "KOYYf8cNgcIK"
      },
      "execution_count": null,
      "outputs": []
    },
    {
      "cell_type": "code",
      "source": [
        "import spacy\n",
        "pt = spacy.load('pt_core_news_sm')\n",
        "\n",
        "nltk.download('punkt')\n",
        "from gensim.models import Word2Vec\n",
        "\n",
        "from sklearn.decomposition import PCA\n",
        "from matplotlib import pyplot"
      ],
      "metadata": {
        "colab": {
          "base_uri": "https://localhost:8080/"
        },
        "id": "A5ZToZ40RTlu",
        "outputId": "eab87419-cb6b-4a1a-a2e9-dbc9372aa729"
      },
      "execution_count": 126,
      "outputs": [
        {
          "output_type": "stream",
          "name": "stderr",
          "text": [
            "/usr/local/lib/python3.8/dist-packages/torch/cuda/__init__.py:497: UserWarning: Can't initialize NVML\n",
            "  warnings.warn(\"Can't initialize NVML\")\n",
            "[nltk_data] Downloading package punkt to /root/nltk_data...\n",
            "[nltk_data]   Package punkt is already up-to-date!\n"
          ]
        }
      ]
    },
    {
      "cell_type": "code",
      "source": [
        "df['tokens_2'] = df.normalizacao.apply(word_tokenize)"
      ],
      "metadata": {
        "id": "rOUUymgxhRjU"
      },
      "execution_count": 146,
      "outputs": []
    },
    {
      "cell_type": "code",
      "source": [
        "W2V_model = Word2Vec(df['tokens_2'], size=100, min_count=1, sg=0)"
      ],
      "metadata": {
        "id": "7qLJOF9MhTaq"
      },
      "execution_count": 134,
      "outputs": []
    },
    {
      "cell_type": "code",
      "source": [
        "vector_tfidf = tfidf.fit_transform(df['tokens_2'])\n",
        "X_train, X_test, y_train, y_test = train_test_split(\n",
        "    df.tokens_2, df.classificacao, test_size=0.25, random_state=42)\n",
        "\n",
        "LR_model.fit(X_train, y_train)\n",
        "LR_acuracia_04 = LR_model.score(X_test, y_test)\n",
        "\n",
        "print('A acuracia do terceiro modelo de Regressão Logistica aplicada é ',LR_acuracia_04)"
      ],
      "metadata": {
        "id": "mc3XHeTznRC6"
      },
      "execution_count": null,
      "outputs": []
    },
    {
      "cell_type": "markdown",
      "metadata": {
        "id": "68SiMjcWqD_m"
      },
      "source": [
        "####**Validação do professor**"
      ]
    },
    {
      "cell_type": "markdown",
      "metadata": {
        "id": "T24EasckqG2I"
      },
      "source": [
        "Consolidar apenas os scripts do seu **modelo campeão**, desde o carregamento do dataframe, separação das amostras, tratamentos utilizados (funções, limpezas, etc.), criação dos objetos de vetorização dos textos e modelo treinado e outras implementações utilizadas no processo de desenvolvimento do modelo."
      ]
    },
    {
      "cell_type": "markdown",
      "source": [
        "### Confusion Matrix do melhor modelo"
      ],
      "metadata": {
        "id": "ko1nUoakn4Bb"
      }
    },
    {
      "cell_type": "code",
      "metadata": {
        "id": "ZxqHA-XCrqsD",
        "colab": {
          "base_uri": "https://localhost:8080/"
        },
        "outputId": "73492a24-7a3f-4d22-b1db-ded05ef0986d"
      },
      "source": [
        "from sklearn.metrics import confusion_matrix, classification_report\n",
        "\n",
        "tfidf = TfidfVectorizer(ngram_range=(1,1))\n",
        "\n",
        "vector_tfidf = tfidf.fit_transform(df['normalizacao'])\n",
        "X_train, X_test, y_train, y_test = train_test_split(\n",
        "    vector_tfidf, df.classificacao, test_size=0.25, random_state=42)\n",
        "\n",
        "LR_model.fit(X_train, y_train)\n",
        "LR_acuracia_03 = LR_model.score(X_test, y_test)\n",
        "\n",
        "LG_pred = LR_model.predict(X_test)\n",
        "\n",
        "conf_matrix = confusion_matrix(y_test, LG_pred)\n",
        "print(conf_matrix)\n",
        "\n",
        "print(classification_report(y_test, LG_pred))"
      ],
      "execution_count": 149,
      "outputs": [
        {
          "output_type": "stream",
          "name": "stdout",
          "text": [
            "[[1212   25   44   11   11]\n",
            " [  24 1179   60   15   12]\n",
            " [  60   42 1068   22   12]\n",
            " [  22   23   16  851   10]\n",
            " [  14   18   23   31  463]]\n",
            "              precision    recall  f1-score   support\n",
            "\n",
            "           0       0.91      0.93      0.92      1303\n",
            "           1       0.92      0.91      0.92      1290\n",
            "           2       0.88      0.89      0.88      1204\n",
            "           3       0.92      0.92      0.92       922\n",
            "           4       0.91      0.84      0.88       549\n",
            "\n",
            "    accuracy                           0.91      5268\n",
            "   macro avg       0.91      0.90      0.90      5268\n",
            "weighted avg       0.91      0.91      0.91      5268\n",
            "\n"
          ]
        }
      ]
    },
    {
      "cell_type": "code",
      "metadata": {
        "id": "VFA-CYfawkEJ"
      },
      "source": [],
      "execution_count": null,
      "outputs": []
    },
    {
      "cell_type": "code",
      "metadata": {
        "id": "BuJtvcfXo3J4"
      },
      "source": [],
      "execution_count": null,
      "outputs": []
    },
    {
      "cell_type": "code",
      "metadata": {
        "id": "6ULYNH6-o3Hf"
      },
      "source": [],
      "execution_count": null,
      "outputs": []
    },
    {
      "cell_type": "code",
      "metadata": {
        "id": "3ClM-JTJo3FK"
      },
      "source": [],
      "execution_count": null,
      "outputs": []
    }
  ]
}